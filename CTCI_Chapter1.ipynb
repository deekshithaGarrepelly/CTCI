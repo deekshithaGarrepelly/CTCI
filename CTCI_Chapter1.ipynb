{
  "nbformat": 4,
  "nbformat_minor": 0,
  "metadata": {
    "colab": {
      "provenance": [],
      "authorship_tag": "ABX9TyObrRPdKQMFFzYxN0bORDl/",
      "include_colab_link": true
    },
    "kernelspec": {
      "name": "python3",
      "display_name": "Python 3"
    },
    "language_info": {
      "name": "python"
    }
  },
  "cells": [
    {
      "cell_type": "markdown",
      "metadata": {
        "id": "view-in-github",
        "colab_type": "text"
      },
      "source": [
        "<a href=\"https://colab.research.google.com/github/deekshithaGarrepelly/CTCI/blob/main/CTCI_Chapter1.ipynb\" target=\"_parent\"><img src=\"https://colab.research.google.com/assets/colab-badge.svg\" alt=\"Open In Colab\"/></a>"
      ]
    },
    {
      "cell_type": "code",
      "source": [
        "pip install torch"
      ],
      "metadata": {
        "colab": {
          "base_uri": "https://localhost:8080/"
        },
        "id": "9hNXsjtjdBOd",
        "outputId": "556b4cfd-68bb-4ce8-8236-d0c4474eaae3"
      },
      "execution_count": 1,
      "outputs": [
        {
          "output_type": "stream",
          "name": "stdout",
          "text": [
            "Looking in indexes: https://pypi.org/simple, https://us-python.pkg.dev/colab-wheels/public/simple/\n",
            "Requirement already satisfied: torch in /usr/local/lib/python3.8/dist-packages (1.13.0+cu116)\n",
            "Requirement already satisfied: typing-extensions in /usr/local/lib/python3.8/dist-packages (from torch) (4.4.0)\n"
          ]
        }
      ]
    },
    {
      "cell_type": "code",
      "source": [
        "import torch"
      ],
      "metadata": {
        "id": "LVLmDrapdG1n"
      },
      "execution_count": 2,
      "outputs": []
    },
    {
      "cell_type": "markdown",
      "source": [
        "For the below implementation :\n",
        "let len(keyValPairs)=N\n",
        "Implemetation time : \n",
        "for each of N pairs - \n",
        "compute the hashcode for each key - O(1) and insert key-value pair at that location in the array - O(1)\n",
        "Overall implementation complexity : O(1)\n",
        "\n",
        "\n",
        "---\n",
        "\n",
        "Retrival of a key value pair - reverse : compute the index from hashcode and retrive the key value pair from that index : o(1)"
      ],
      "metadata": {
        "id": "7GJb9ljojTFK"
      }
    },
    {
      "cell_type": "code",
      "execution_count": 33,
      "metadata": {
        "id": "YXIEUmBsakKs"
      },
      "outputs": [],
      "source": [
        "#hash table implementation\n",
        "def returnHashTable(keyValPairs):\n",
        "  ret_values=['-1']*1000\n",
        "  for i in range(len(keyValPairs)):\n",
        "    key=keyValPairs[i][0]\n",
        "    print(f\"key is {key}\")\n",
        "    value=keyValPairs[i][1]\n",
        "    print(f\"value is {value}\")\n",
        "    hashCode=int(key)%1000\n",
        "    print(f\"hashcode is {hashCode}\")\n",
        "    if ret_values[hashCode]=='-1':\n",
        "      temp=[]\n",
        "      temp.append(keyValPairs[i])\n",
        "      ret_values[hashCode]=temp\n",
        "    else:\n",
        "      temp=ret_values[hashCode]\n",
        "      temp.append(keyValPairs[i])\n",
        "      ret_values[hashCode]=temp\n",
        "  return ret_values"
      ]
    },
    {
      "cell_type": "code",
      "source": [
        "keyValPairs=[['900','apple'],['100','banana'],['2','chocolate'],['1002','ice-cream'],['2002','orange']]"
      ],
      "metadata": {
        "id": "r72vM4UvfdY6"
      },
      "execution_count": 37,
      "outputs": []
    },
    {
      "cell_type": "code",
      "source": [
        "x=returnHashTable(keyValPairs)"
      ],
      "metadata": {
        "colab": {
          "base_uri": "https://localhost:8080/"
        },
        "id": "EAs8LJFEfqim",
        "outputId": "ec8eed99-8d82-463a-cdb8-c2d5fe14afd4"
      },
      "execution_count": 38,
      "outputs": [
        {
          "output_type": "stream",
          "name": "stdout",
          "text": [
            "key is 900\n",
            "value is apple\n",
            "hashcode is 900\n",
            "key is 100\n",
            "value is banana\n",
            "hashcode is 100\n",
            "key is 2\n",
            "value is chocolate\n",
            "hashcode is 2\n",
            "key is 1002\n",
            "value is ice-cream\n",
            "hashcode is 2\n",
            "key is 2002\n",
            "value is orange\n",
            "hashcode is 2\n"
          ]
        }
      ]
    },
    {
      "cell_type": "code",
      "source": [
        "x[2]"
      ],
      "metadata": {
        "colab": {
          "base_uri": "https://localhost:8080/"
        },
        "id": "doVdorZKgUCY",
        "outputId": "cc2ca764-eb2d-48f8-c29d-195baace1059"
      },
      "execution_count": 39,
      "outputs": [
        {
          "output_type": "execute_result",
          "data": {
            "text/plain": [
              "[['2', 'chocolate'], ['1002', 'ice-cream'], ['2002', 'orange']]"
            ]
          },
          "metadata": {},
          "execution_count": 39
        }
      ]
    },
    {
      "cell_type": "markdown",
      "source": [
        "Implementation of array list with resizing factor 2"
      ],
      "metadata": {
        "id": "h0hKgzmvlnF0"
      }
    },
    {
      "cell_type": "code",
      "source": [
        "#user needs to be prompted to add/delete etc.\n",
        "def insertIntoArrayList(elements):\n",
        "  capacity_init=10\n",
        "  init_size=0\n",
        "  ret_list_init=torch.zeros([capacity_init],dtype='float')\n",
        "  for i in range(len(elements)):\n",
        "    if init_size==capacity_init:\n",
        "      capacity_init=2*capacity_init\n",
        "      ret_list_2=torch.zeros([capacity_init],dtype='float')\n",
        "      for j in range(len(ret_list_init)):\n",
        "        ret_list_2[j]=ret_list_init[j]\n",
        "      ret_list_init=ret_list_2\n",
        "      ret_list_init[i]=elements[i]\n",
        "    else:\n",
        "      ret_list_init[i]=elements[i]\n",
        "      "
      ],
      "metadata": {
        "id": "QNEluzjYluvb"
      },
      "execution_count": 40,
      "outputs": []
    }
  ]
}